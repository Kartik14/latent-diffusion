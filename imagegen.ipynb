{
 "cells": [
  {
   "cell_type": "code",
   "execution_count": 2,
   "metadata": {},
   "outputs": [],
   "source": [
    "import os"
   ]
  },
  {
   "cell_type": "code",
   "execution_count": 1,
   "metadata": {},
   "outputs": [],
   "source": [
    "import torch\n",
    "from omegaconf import OmegaConf\n",
    "\n",
    "from ldm.util import instantiate_from_config\n",
    "\n",
    "\n",
    "def load_model_from_config(config, ckpt):\n",
    "    print(f\"Loading model from {ckpt}\")\n",
    "    pl_sd = torch.load(ckpt)#, map_location=\"cpu\")\n",
    "    sd = pl_sd[\"state_dict\"]\n",
    "    model = instantiate_from_config(config.model)\n",
    "    m, u = model.load_state_dict(sd, strict=False)\n",
    "    model.cuda()\n",
    "    model.eval()\n",
    "    return model\n",
    "\n",
    "\n",
    "def get_model():\n",
    "    config = OmegaConf.load(\"configs/latent-diffusion/afhq-ldm-kl-16-mae-vae.yaml\")  \n",
    "    model = load_model_from_config(config, \"logs/2024-04-27T19-42-30_afhq-ldm-kl-16-mae-vae/checkpoints/epoch=000149.ckpt\")\n",
    "    return model\n",
    "def get_model_ijepa():\n",
    "    config = OmegaConf.load(\"configs/latent-diffusion/afhq-ldm-kl-16-mae-vae.yaml\")  \n",
    "    model = load_model_from_config(config, \"logs/2024-04-24T18-31-43_afhq-ldm-kl-16-jepa-vae/checkpoints/epoch=000149.ckpt\")\n",
    "    return model"
   ]
  },
  {
   "cell_type": "code",
   "execution_count": 2,
   "metadata": {},
   "outputs": [
    {
     "name": "stdout",
     "output_type": "stream",
     "text": [
      "Loading model from logs/2024-04-24T18-31-43_afhq-ldm-kl-16-jepa-vae/checkpoints/epoch=000149.ckpt\n"
     ]
    },
    {
     "name": "stderr",
     "output_type": "stream",
     "text": [
      "/usr0/home/vishwaja/miniconda3/envs/ldm/lib/python3.8/site-packages/tqdm/auto.py:21: TqdmWarning: IProgress not found. Please update jupyter and ipywidgets. See https://ipywidgets.readthedocs.io/en/stable/user_install.html\n",
      "  from .autonotebook import tqdm as notebook_tqdm\n"
     ]
    },
    {
     "name": "stdout",
     "output_type": "stream",
     "text": [
      "LatentDiffusion: Running in eps-prediction mode\n",
      "DiffusionWrapper has 37.68 M params.\n",
      "Keeping EMAs of 310.\n",
      "Loaded quant_conv from checkpoint.\n",
      "Working with z of shape (1, 16, 32, 32) = 16384 dimensions.\n",
      "making attention of type 'vanilla' with 128 in_channels\n",
      "Restored from logs/2024-04-26T19-44-33_autoencoder_kl_16x16x16_afhq_vae_mae/checkpoints/epoch=000099.ckpt\n",
      "Training LatentDiffusion as an unconditional model.\n"
     ]
    }
   ],
   "source": [
    "from ldm.models.diffusion.ddim import DDIMSampler\n",
    "\n",
    "model = get_model_ijepa()\n",
    "sampler = DDIMSampler(model)\n"
   ]
  },
  {
   "cell_type": "code",
   "execution_count": 7,
   "metadata": {},
   "outputs": [],
   "source": [
    "import numpy as np \n",
    "from PIL import Image\n",
    "from einops import rearrange\n",
    "from torchvision.utils import make_grid\n",
    "import os\n",
    "from PIL import Image\n",
    "import pytorch_lightning as pl"
   ]
  },
  {
   "cell_type": "code",
   "execution_count": 12,
   "metadata": {},
   "outputs": [
    {
     "name": "stderr",
     "output_type": "stream",
     "text": [
      "  0%|          | 0/2 [00:00<?, ?it/s]Global seed set to 0\n"
     ]
    },
    {
     "name": "stdout",
     "output_type": "stream",
     "text": [
      "Plotting: Switched to EMA weights\n",
      "Data shape for DDIM sampling is (16, 16, 16, 16), eta 1.0\n",
      "Running DDIM Sampling with 100 timesteps\n"
     ]
    },
    {
     "name": "stderr",
     "output_type": "stream",
     "text": [
      "DDIM Sampler: 100%|██████████| 100/100 [00:01<00:00, 56.90it/s]\n",
      " 50%|█████     | 1/2 [00:01<00:01,  1.86s/it]Global seed set to 1\n"
     ]
    },
    {
     "name": "stdout",
     "output_type": "stream",
     "text": [
      "Plotting: Restored training weights\n",
      "Plotting: Switched to EMA weights\n",
      "Data shape for DDIM sampling is (16, 16, 16, 16), eta 1.0\n",
      "Running DDIM Sampling with 100 timesteps\n"
     ]
    },
    {
     "name": "stderr",
     "output_type": "stream",
     "text": [
      "DDIM Sampler: 100%|██████████| 100/100 [00:01<00:00, 56.12it/s]\n",
      "100%|██████████| 2/2 [00:03<00:00,  1.88s/it]"
     ]
    },
    {
     "name": "stdout",
     "output_type": "stream",
     "text": [
      "Plotting: Restored training weights\n",
      "All images saved successfully.\n"
     ]
    },
    {
     "name": "stderr",
     "output_type": "stream",
     "text": [
      "\n"
     ]
    }
   ],
   "source": [
    "ddim_steps = 100\n",
    "ddim_eta = 1.0\n",
    "scale = 3.0   \n",
    "all_samples = list()\n",
    "folder_path = 'generated_samples/ijepa2/'\n",
    "os.makedirs(folder_path, exist_ok=True)\n",
    "i_t = 0\n",
    "Nb = 2\n",
    "batch_size = 16\n",
    "from tqdm import tqdm\n",
    "for j in tqdm(range(Nb)):\n",
    "    pl.seed_everything(j)\n",
    "    with torch.no_grad():\n",
    "        with model.ema_scope():\n",
    "            #   uc = model.get_learned_conditioning(\n",
    "            #     {model.cond_stage_key: torch.tensor(10*[1000]).to(model.device)}\n",
    "            #     )\n",
    "            with model.ema_scope(\"Plotting\"):\n",
    "                    samples, z_denoise_row = model.sample_log(\n",
    "                        cond=None,\n",
    "                        batch_size=batch_size,\n",
    "                        ddim=True,\n",
    "                        ddim_steps=ddim_steps,\n",
    "                        eta=ddim_eta,\n",
    "                    )\n",
    "                    # samples, z_denoise_row = self.sample(cond=c, batch_size=N, return_intermediates=True)\n",
    "            x_samples = model.decode_first_stage(samples)\n",
    "            \n",
    "            # samples_ddim, _ = sampler.sample(S=ddim_steps,\n",
    "            #                                         conditioning=None,\n",
    "            #                                         batch_size=16,\n",
    "            #                                         shape=[16, 64, 64],\n",
    "            #                                         verbose=False,\n",
    "            #                                         unconditional_guidance_scale=scale,\n",
    "            #                                         unconditional_conditioning=None, \n",
    "            #                                         eta=ddim_eta)\n",
    "\n",
    "            # x_samples_ddim = model.decode_first_stage(samples_ddim)\n",
    "            x_samples = torch.clamp((x_samples+1.0)/2.0, \n",
    "                                        min=0.0, max=1.0)\n",
    "            all_samples.append(x_samples)\n",
    "\n",
    "# Create a folder to save the images\n",
    "    \n",
    "\n",
    "# Iterate over the images and save each one as a file\n",
    "        for i, image in enumerate(all_samples[0]):\n",
    "            # Convert the tensor image to PIL Image\n",
    "            img = 255*image.cpu().numpy().transpose(1, 2, 0)\n",
    "            img = np.clip(img, 0, 255)\n",
    "            pil_image = Image.fromarray(img.astype(np.uint8))\n",
    "\n",
    "            # Save the image as a file\n",
    "            file_path = os.path.join(folder_path, f'image_{i+i_t}.png')\n",
    "            pil_image.save(file_path)\n",
    "\n",
    "            \n",
    "    i_t += batch_size\n",
    "\n",
    "print('All images saved successfully.')\n",
    "\n",
    "# grid = torch.stack(all_samples, 0)\n",
    "# grid = rearrange(grid, 'n b c h w -> (n b) c h w')\n",
    "# grid = make_grid(grid, nrow=n_samples_per_class)\n",
    "\n",
    "# # to image\n",
    "# grid = 255. * rearrange(grid, 'c h w -> h w c').cpu().numpy()\n",
    "# Image.fromarray(grid.astype(np.uint8))\n",
    "\n"
   ]
  },
  {
   "cell_type": "code",
   "execution_count": 4,
   "metadata": {},
   "outputs": [],
   "source": [
    "\n",
    "import numpy as np\n",
    "import os\n",
    "from PIL import Image\n",
    "from tqdm import tqdm\n",
    "def load_images_to_array(directory):\n",
    "    images = []\n",
    "    filenames = os.listdir(directory)\n",
    "    for filename in tqdm(filenames, total=len(filenames)):\n",
    "        img_path = os.path.join(directory, filename)\n",
    "        with Image.open(img_path) as img:\n",
    "            if img.size[0] != 128:\n",
    "                img = img.resize((128, 128))\n",
    "            img_array = np.array(img)\n",
    "            images.append(img_array)\n",
    "    return np.array(images)\n",
    "\n",
    "def save_images_as_npz(images, filename):\n",
    "    np.savez_compressed(filename, images=images)\n",
    "# Example Usage\n",
    "\n"
   ]
  },
  {
   "cell_type": "code",
   "execution_count": null,
   "metadata": {},
   "outputs": [],
   "source": [
    "img_dir = 'logs/2024-04-24T18-31-43_afhq-ldm-kl-16-jepa-vae/samples/00022950/2024-04-28-16-55-45/img'\n",
    "images_array = load_images_to_array(img_dir)\n",
    "save_images_as_npz(images_array, 'images_afhq_ijepa.npz')"
   ]
  },
  {
   "cell_type": "code",
   "execution_count": 17,
   "metadata": {},
   "outputs": [],
   "source": [
    "img_dir = 'logs/2024-04-27T19-42-30_afhq-ldm-kl-16-mae-vae/samples/00022950/2024-04-28-17-02-02/img'\n",
    "images_array = load_images_to_array(img_dir)\n",
    "save_images_as_npz(images_array, 'images_afhq_mae.npz')"
   ]
  },
  {
   "cell_type": "code",
   "execution_count": 20,
   "metadata": {},
   "outputs": [],
   "source": [
    "img_dir = 'logs/2024-04-24T18-31-43_afhq-ldm-kl-16-jepa-vae/samples/00022950/2024-04-28-17-11-48/img'\n",
    "images_array = load_images_to_array(img_dir)\n",
    "save_images_as_npz(images_array, 'images_afhq_ijepa_5000_200.npz')"
   ]
  },
  {
   "cell_type": "code",
   "execution_count": 21,
   "metadata": {},
   "outputs": [],
   "source": [
    "img_dir = 'logs/2024-04-27T19-42-30_afhq-ldm-kl-16-mae-vae/samples/00022950/2024-04-28-17-13-43/img'\n",
    "images_array = load_images_to_array(img_dir)\n",
    "save_images_as_npz(images_array, 'images_afhq_mae_5000_200.npz')"
   ]
  },
  {
   "cell_type": "code",
   "execution_count": 3,
   "metadata": {},
   "outputs": [
    {
     "ename": "NameError",
     "evalue": "name 'load_images_to_array' is not defined",
     "output_type": "error",
     "traceback": [
      "\u001b[0;31m---------------------------------------------------------------------------\u001b[0m",
      "\u001b[0;31mNameError\u001b[0m                                 Traceback (most recent call last)",
      "Cell \u001b[0;32mIn[3], line 3\u001b[0m\n\u001b[1;32m      1\u001b[0m img_dir \u001b[38;5;241m=\u001b[39m \u001b[38;5;124m'\u001b[39m\u001b[38;5;124mlogs/2024-04-24T18-31-43_afhq-ldm-kl-16-jepa-vae/samples_2024-04-28-22-51-17/img/epoch=000119\u001b[39m\u001b[38;5;124m'\u001b[39m\n\u001b[1;32m      2\u001b[0m epoch \u001b[38;5;241m=\u001b[39m os\u001b[38;5;241m.\u001b[39mpath\u001b[38;5;241m.\u001b[39mbasename(img_dir)\u001b[38;5;241m.\u001b[39msplit(\u001b[38;5;124m'\u001b[39m\u001b[38;5;124m=\u001b[39m\u001b[38;5;124m'\u001b[39m)[\u001b[38;5;241m-\u001b[39m\u001b[38;5;241m1\u001b[39m]\n\u001b[0;32m----> 3\u001b[0m images_array \u001b[38;5;241m=\u001b[39m \u001b[43mload_images_to_array\u001b[49m(img_dir)\n\u001b[1;32m      4\u001b[0m save_images_as_npz(images_array, \u001b[38;5;124mf\u001b[39m\u001b[38;5;124m\"\u001b[39m\u001b[38;5;124mimages_npy/images_afhq_ijepa_\u001b[39m\u001b[38;5;132;01m{\u001b[39;00mepoch\u001b[38;5;132;01m}\u001b[39;00m\u001b[38;5;124m.npz\u001b[39m\u001b[38;5;124m\"\u001b[39m)\n",
      "\u001b[0;31mNameError\u001b[0m: name 'load_images_to_array' is not defined"
     ]
    }
   ],
   "source": [
    "img_dir = 'logs/2024-04-24T18-31-43_afhq-ldm-kl-16-jepa-vae/samples_2024-04-28-22-51-17/img/epoch=000119'\n",
    "epoch = os.path.basename(img_dir).split('=')[-1]\n",
    "images_array = load_images_to_array(img_dir)\n",
    "save_images_as_npz(images_array, f\"images_npy/images_afhq_ijepa_{epoch}.npz\")"
   ]
  },
  {
   "cell_type": "code",
   "execution_count": null,
   "metadata": {},
   "outputs": [],
   "source": []
  }
 ],
 "metadata": {
  "kernelspec": {
   "display_name": "ldm",
   "language": "python",
   "name": "python3"
  },
  "language_info": {
   "codemirror_mode": {
    "name": "ipython",
    "version": 3
   },
   "file_extension": ".py",
   "mimetype": "text/x-python",
   "name": "python",
   "nbconvert_exporter": "python",
   "pygments_lexer": "ipython3",
   "version": "3.8.5"
  }
 },
 "nbformat": 4,
 "nbformat_minor": 2
}
