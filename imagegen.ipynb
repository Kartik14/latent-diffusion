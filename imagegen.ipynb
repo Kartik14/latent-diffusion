{
 "cells": [
  {
   "cell_type": "code",
   "execution_count": 1,
   "metadata": {},
   "outputs": [],
   "source": [
    "import os"
   ]
  },
  {
   "cell_type": "code",
   "execution_count": 1,
   "metadata": {},
   "outputs": [],
   "source": [
    "import torch\n",
    "from omegaconf import OmegaConf\n",
    "\n",
    "from ldm.util import instantiate_from_config\n",
    "\n",
    "\n",
    "def load_model_from_config(config, ckpt):\n",
    "    print(f\"Loading model from {ckpt}\")\n",
    "    pl_sd = torch.load(ckpt)#, map_location=\"cpu\")\n",
    "    sd = pl_sd[\"state_dict\"]\n",
    "    model = instantiate_from_config(config.model)\n",
    "    m, u = model.load_state_dict(sd, strict=False)\n",
    "    model.cuda()\n",
    "    model.eval()\n",
    "    return model\n",
    "\n",
    "\n",
    "def get_model():\n",
    "    config = OmegaConf.load(\"configs/latent-diffusion/afhq-ldm-kl-16-mae-vae.yaml\")  \n",
    "    model = load_model_from_config(config, \"logs/2024-04-27T19-42-30_afhq-ldm-kl-16-mae-vae/checkpoints/epoch=000149.ckpt\")\n",
    "    return model\n",
    "def get_model_ijepa():\n",
    "    config = OmegaConf.load(\"configs/latent-diffusion/afhq-ldm-kl-16-mae-vae.yaml\")  \n",
    "    model = load_model_from_config(config, \"logs/2024-04-24T18-31-43_afhq-ldm-kl-16-jepa-vae/checkpoints/epoch=000149.ckpt\")\n",
    "    return model"
   ]
  },
  {
   "cell_type": "code",
   "execution_count": 2,
   "metadata": {},
   "outputs": [
    {
     "name": "stdout",
     "output_type": "stream",
     "text": [
      "Loading model from logs/2024-04-24T18-31-43_afhq-ldm-kl-16-jepa-vae/checkpoints/epoch=000149.ckpt\n"
     ]
    },
    {
     "name": "stderr",
     "output_type": "stream",
     "text": [
      "/usr0/home/vishwaja/miniconda3/envs/ldm/lib/python3.8/site-packages/tqdm/auto.py:21: TqdmWarning: IProgress not found. Please update jupyter and ipywidgets. See https://ipywidgets.readthedocs.io/en/stable/user_install.html\n",
      "  from .autonotebook import tqdm as notebook_tqdm\n"
     ]
    },
    {
     "name": "stdout",
     "output_type": "stream",
     "text": [
      "LatentDiffusion: Running in eps-prediction mode\n",
      "DiffusionWrapper has 37.68 M params.\n",
      "Keeping EMAs of 310.\n",
      "Loaded quant_conv from checkpoint.\n",
      "Working with z of shape (1, 16, 32, 32) = 16384 dimensions.\n",
      "making attention of type 'vanilla' with 128 in_channels\n",
      "Restored from logs/2024-04-26T19-44-33_autoencoder_kl_16x16x16_afhq_vae_mae/checkpoints/epoch=000099.ckpt\n",
      "Training LatentDiffusion as an unconditional model.\n"
     ]
    }
   ],
   "source": [
    "from ldm.models.diffusion.ddim import DDIMSampler\n",
    "\n",
    "model = get_model_ijepa()\n",
    "sampler = DDIMSampler(model)\n"
   ]
  },
  {
   "cell_type": "code",
   "execution_count": 2,
   "metadata": {},
   "outputs": [
    {
     "name": "stderr",
     "output_type": "stream",
     "text": [
      "/usr0/home/vishwaja/miniconda3/envs/ldm/lib/python3.8/site-packages/tqdm/auto.py:21: TqdmWarning: IProgress not found. Please update jupyter and ipywidgets. See https://ipywidgets.readthedocs.io/en/stable/user_install.html\n",
      "  from .autonotebook import tqdm as notebook_tqdm\n"
     ]
    }
   ],
   "source": [
    "import numpy as np \n",
    "from PIL import Image\n",
    "from einops import rearrange\n",
    "from torchvision.utils import make_grid\n",
    "import os\n",
    "from PIL import Image\n",
    "import pytorch_lightning as pl"
   ]
  },
  {
   "cell_type": "code",
   "execution_count": 12,
   "metadata": {},
   "outputs": [
    {
     "name": "stderr",
     "output_type": "stream",
     "text": [
      "  0%|          | 0/2 [00:00<?, ?it/s]Global seed set to 0\n"
     ]
    },
    {
     "name": "stdout",
     "output_type": "stream",
     "text": [
      "Plotting: Switched to EMA weights\n",
      "Data shape for DDIM sampling is (16, 16, 16, 16), eta 1.0\n",
      "Running DDIM Sampling with 100 timesteps\n"
     ]
    },
    {
     "name": "stderr",
     "output_type": "stream",
     "text": [
      "DDIM Sampler: 100%|██████████| 100/100 [00:01<00:00, 56.90it/s]\n",
      " 50%|█████     | 1/2 [00:01<00:01,  1.86s/it]Global seed set to 1\n"
     ]
    },
    {
     "name": "stdout",
     "output_type": "stream",
     "text": [
      "Plotting: Restored training weights\n",
      "Plotting: Switched to EMA weights\n",
      "Data shape for DDIM sampling is (16, 16, 16, 16), eta 1.0\n",
      "Running DDIM Sampling with 100 timesteps\n"
     ]
    },
    {
     "name": "stderr",
     "output_type": "stream",
     "text": [
      "DDIM Sampler: 100%|██████████| 100/100 [00:01<00:00, 56.12it/s]\n",
      "100%|██████████| 2/2 [00:03<00:00,  1.88s/it]"
     ]
    },
    {
     "name": "stdout",
     "output_type": "stream",
     "text": [
      "Plotting: Restored training weights\n",
      "All images saved successfully.\n"
     ]
    },
    {
     "name": "stderr",
     "output_type": "stream",
     "text": [
      "\n"
     ]
    }
   ],
   "source": [
    "ddim_steps = 100\n",
    "ddim_eta = 1.0\n",
    "scale = 3.0   \n",
    "all_samples = list()\n",
    "folder_path = 'generated_samples/ijepa2/'\n",
    "os.makedirs(folder_path, exist_ok=True)\n",
    "i_t = 0\n",
    "Nb = 2\n",
    "batch_size = 16\n",
    "from tqdm import tqdm\n",
    "for j in tqdm(range(Nb)):\n",
    "    pl.seed_everything(j)\n",
    "    with torch.no_grad():\n",
    "        with model.ema_scope():\n",
    "            #   uc = model.get_learned_conditioning(\n",
    "            #     {model.cond_stage_key: torch.tensor(10*[1000]).to(model.device)}\n",
    "            #     )\n",
    "            with model.ema_scope(\"Plotting\"):\n",
    "                    samples, z_denoise_row = model.sample_log(\n",
    "                        cond=None,\n",
    "                        batch_size=batch_size,\n",
    "                        ddim=True,\n",
    "                        ddim_steps=ddim_steps,\n",
    "                        eta=ddim_eta,\n",
    "                    )\n",
    "                    # samples, z_denoise_row = self.sample(cond=c, batch_size=N, return_intermediates=True)\n",
    "            x_samples = model.decode_first_stage(samples)\n",
    "            \n",
    "            # samples_ddim, _ = sampler.sample(S=ddim_steps,\n",
    "            #                                         conditioning=None,\n",
    "            #                                         batch_size=16,\n",
    "            #                                         shape=[16, 64, 64],\n",
    "            #                                         verbose=False,\n",
    "            #                                         unconditional_guidance_scale=scale,\n",
    "            #                                         unconditional_conditioning=None, \n",
    "            #                                         eta=ddim_eta)\n",
    "\n",
    "            # x_samples_ddim = model.decode_first_stage(samples_ddim)\n",
    "            x_samples = torch.clamp((x_samples+1.0)/2.0, \n",
    "                                        min=0.0, max=1.0)\n",
    "            all_samples.append(x_samples)\n",
    "\n",
    "# Create a folder to save the images\n",
    "    \n",
    "\n",
    "# Iterate over the images and save each one as a file\n",
    "        for i, image in enumerate(all_samples[0]):\n",
    "            # Convert the tensor image to PIL Image\n",
    "            img = 255*image.cpu().numpy().transpose(1, 2, 0)\n",
    "            img = np.clip(img, 0, 255)\n",
    "            pil_image = Image.fromarray(img.astype(np.uint8))\n",
    "\n",
    "            # Save the image as a file\n",
    "            file_path = os.path.join(folder_path, f'image_{i+i_t}.png')\n",
    "            pil_image.save(file_path)\n",
    "\n",
    "            \n",
    "    i_t += batch_size\n",
    "\n",
    "print('All images saved successfully.')\n",
    "\n",
    "# grid = torch.stack(all_samples, 0)\n",
    "# grid = rearrange(grid, 'n b c h w -> (n b) c h w')\n",
    "# grid = make_grid(grid, nrow=n_samples_per_class)\n",
    "\n",
    "# # to image\n",
    "# grid = 255. * rearrange(grid, 'c h w -> h w c').cpu().numpy()\n",
    "# Image.fromarray(grid.astype(np.uint8))\n",
    "\n"
   ]
  },
  {
   "cell_type": "code",
   "execution_count": 3,
   "metadata": {},
   "outputs": [],
   "source": [
    "\n",
    "import numpy as np\n",
    "import os\n",
    "from PIL import Image\n",
    "from tqdm import tqdm\n",
    "def load_images_to_array(directory):\n",
    "    images = []\n",
    "    filenames = os.listdir(directory)\n",
    "    for filename in tqdm(filenames, total=len(filenames)):\n",
    "        img_path = os.path.join(directory, filename)\n",
    "        with Image.open(img_path) as img:\n",
    "            if img.size[0] != 128:\n",
    "                img = img.resize((128, 128))\n",
    "            img_array = np.array(img)\n",
    "            images.append(img_array)\n",
    "    return np.array(images)\n",
    "\n",
    "def save_images_as_npz(images, filename):\n",
    "    np.savez_compressed(filename, images=images)\n",
    "# Example Usage\n",
    "\n"
   ]
  },
  {
   "cell_type": "code",
   "execution_count": null,
   "metadata": {},
   "outputs": [],
   "source": [
    "img_dir = 'logs/2024-04-24T18-31-43_afhq-ldm-kl-16-jepa-vae/samples/00022950/2024-04-28-16-55-45/img'\n",
    "images_array = load_images_to_array(img_dir)\n",
    "save_images_as_npz(images_array, 'images_afhq_ijepa.npz')"
   ]
  },
  {
   "cell_type": "code",
   "execution_count": 17,
   "metadata": {},
   "outputs": [],
   "source": [
    "img_dir = 'logs/2024-04-27T19-42-30_afhq-ldm-kl-16-mae-vae/samples/00022950/2024-04-28-17-02-02/img'\n",
    "images_array = load_images_to_array(img_dir)\n",
    "save_images_as_npz(images_array, 'images_afhq_mae.npz')"
   ]
  },
  {
   "cell_type": "code",
   "execution_count": 20,
   "metadata": {},
   "outputs": [],
   "source": [
    "img_dir = 'logs/2024-04-24T18-31-43_afhq-ldm-kl-16-jepa-vae/samples/00022950/2024-04-28-17-11-48/img'\n",
    "images_array = load_images_to_array(img_dir)\n",
    "save_images_as_npz(images_array, 'images_afhq_ijepa_5000_200.npz')"
   ]
  },
  {
   "cell_type": "code",
   "execution_count": 21,
   "metadata": {},
   "outputs": [],
   "source": [
    "img_dir = 'logs/2024-04-27T19-42-30_afhq-ldm-kl-16-mae-vae/samples/00022950/2024-04-28-17-13-43/img'\n",
    "images_array = load_images_to_array(img_dir)\n",
    "save_images_as_npz(images_array, 'images_afhq_mae_5000_200.npz')"
   ]
  },
  {
   "cell_type": "code",
   "execution_count": 6,
   "metadata": {},
   "outputs": [
    {
     "name": "stderr",
     "output_type": "stream",
     "text": [
      "100%|██████████| 5000/5000 [00:04<00:00, 1172.75it/s]\n"
     ]
    }
   ],
   "source": [
    "img_dir = 'logs/2024-04-24T18-31-43_afhq-ldm-kl-16-jepa-vae/samples_2024-04-28-22-51-17/img/epoch=000119'\n",
    "epoch = os.path.basename(img_dir).split('=')[-1]\n",
    "images_array = load_images_to_array(img_dir)\n",
    "save_images_as_npz(images_array, f\"images_npy/images_afhq_ijepa_{epoch}.npz\")"
   ]
  },
  {
   "cell_type": "code",
   "execution_count": 5,
   "metadata": {},
   "outputs": [],
   "source": [
    "from glob import glob\n",
    "import os"
   ]
  },
  {
   "cell_type": "code",
   "execution_count": 8,
   "metadata": {},
   "outputs": [
    {
     "data": {
      "text/plain": [
       "['logs/2024-04-24T18-31-43_afhq-ldm-kl-16-jepa-vae/samples_2024-04-28-22-51-17/img/epoch=000019',\n",
       " 'logs/2024-04-24T18-31-43_afhq-ldm-kl-16-jepa-vae/samples_2024-04-28-22-51-17/img/epoch=000099',\n",
       " 'logs/2024-04-24T18-31-43_afhq-ldm-kl-16-jepa-vae/samples_2024-04-28-22-51-17/img/epoch=000129',\n",
       " 'logs/2024-04-24T18-31-43_afhq-ldm-kl-16-jepa-vae/samples_2024-04-28-22-51-17/img/epoch=000049',\n",
       " 'logs/2024-04-24T18-31-43_afhq-ldm-kl-16-jepa-vae/samples_2024-04-28-22-51-17/img/epoch=000009',\n",
       " 'logs/2024-04-24T18-31-43_afhq-ldm-kl-16-jepa-vae/samples_2024-04-28-22-51-17/img/epoch=000109',\n",
       " 'logs/2024-04-24T18-31-43_afhq-ldm-kl-16-jepa-vae/samples_2024-04-28-22-51-17/img/epoch=000139',\n",
       " 'logs/2024-04-24T18-31-43_afhq-ldm-kl-16-jepa-vae/samples_2024-04-28-22-51-17/img/epoch=000029',\n",
       " 'logs/2024-04-24T18-31-43_afhq-ldm-kl-16-jepa-vae/samples_2024-04-28-22-51-17/img/epoch=000039',\n",
       " 'logs/2024-04-24T18-31-43_afhq-ldm-kl-16-jepa-vae/samples_2024-04-28-22-51-17/img/epoch=000119',\n",
       " 'logs/2024-04-24T18-31-43_afhq-ldm-kl-16-jepa-vae/samples_2024-04-28-22-51-17/img/epoch=000059',\n",
       " 'logs/2024-04-24T18-31-43_afhq-ldm-kl-16-jepa-vae/samples_2024-04-28-22-51-17/img/epoch=000089',\n",
       " 'logs/2024-04-24T18-31-43_afhq-ldm-kl-16-jepa-vae/samples_2024-04-28-22-51-17/img/epoch=000149',\n",
       " 'logs/2024-04-24T18-31-43_afhq-ldm-kl-16-jepa-vae/samples_2024-04-28-22-51-17/img/epoch=000069']"
      ]
     },
     "execution_count": 8,
     "metadata": {},
     "output_type": "execute_result"
    }
   ],
   "source": [
    "epochs_dirs = os.listdir('logs/2024-04-24T18-31-43_afhq-ldm-kl-16-jepa-vae/samples_2024-04-28-22-51-17/img')\n",
    "epochs_dirs = [os.path.join('logs/2024-04-24T18-31-43_afhq-ldm-kl-16-jepa-vae/samples_2024-04-28-22-51-17/img', epoch) for epoch in epochs_dirs]\n",
    "# remove last.ckpt dir\n",
    "epochs_dirs"
   ]
  },
  {
   "cell_type": "code",
   "execution_count": 11,
   "metadata": {},
   "outputs": [
    {
     "name": "stderr",
     "output_type": "stream",
     "text": [
      "100%|██████████| 5000/5000 [00:03<00:00, 1264.24it/s]\n",
      "100%|██████████| 5000/5000 [00:04<00:00, 1206.30it/s]\n",
      "100%|██████████| 5000/5000 [00:03<00:00, 1345.43it/s]\n",
      "100%|██████████| 5000/5000 [00:03<00:00, 1255.53it/s]\n",
      "100%|██████████| 5000/5000 [00:04<00:00, 1228.94it/s]\n",
      "100%|██████████| 5000/5000 [00:05<00:00, 867.51it/s]\n",
      "100%|██████████| 5000/5000 [00:03<00:00, 1295.14it/s]\n",
      "100%|██████████| 5000/5000 [00:04<00:00, 1110.44it/s]\n",
      "100%|██████████| 5000/5000 [00:03<00:00, 1280.26it/s]\n",
      "100%|██████████| 5000/5000 [00:04<00:00, 1094.38it/s]\n",
      "100%|██████████| 5000/5000 [00:03<00:00, 1359.69it/s]\n",
      "100%|██████████| 5000/5000 [00:03<00:00, 1268.51it/s]\n",
      "100%|██████████| 5000/5000 [00:03<00:00, 1284.11it/s]\n",
      "100%|██████████| 5000/5000 [00:03<00:00, 1323.85it/s]\n"
     ]
    }
   ],
   "source": [
    "for img_dir in epochs_dirs:\n",
    "    epoch = os.path.basename(img_dir).split('=')[-1]\n",
    "    images_array = load_images_to_array(img_dir)\n",
    "    save_images_as_npz(images_array, f\"images_npy/images_afhq_ijepa_{epoch}.npz\")"
   ]
  },
  {
   "cell_type": "code",
   "execution_count": 14,
   "metadata": {},
   "outputs": [
    {
     "name": "stderr",
     "output_type": "stream",
     "text": [
      "100%|██████████| 5000/5000 [00:05<00:00, 984.19it/s] \n"
     ]
    }
   ],
   "source": [
    "img_dir = \"logs/2024-04-27T19-42-30_afhq-ldm-kl-16-mae-vae/samples_2024-04-28-20-52-56/img/epoch=000079\"\n",
    "epoch = os.path.basename(img_dir).split('=')[-1]\n",
    "images_array = load_images_to_array(img_dir)\n",
    "save_images_as_npz(images_array, f\"images_npy/images_afhq_ijepa_{epoch}.npz\")"
   ]
  },
  {
   "cell_type": "code",
   "execution_count": 12,
   "metadata": {},
   "outputs": [
    {
     "data": {
      "text/plain": [
       "['logs/2024-04-27T19-42-30_afhq-ldm-kl-16-mae-vae/samples_2024-04-28-22-53-07/img/epoch=000019',\n",
       " 'logs/2024-04-27T19-42-30_afhq-ldm-kl-16-mae-vae/samples_2024-04-28-22-53-07/img/epoch=000099',\n",
       " 'logs/2024-04-27T19-42-30_afhq-ldm-kl-16-mae-vae/samples_2024-04-28-22-53-07/img/epoch=000129',\n",
       " 'logs/2024-04-27T19-42-30_afhq-ldm-kl-16-mae-vae/samples_2024-04-28-22-53-07/img/epoch=000049',\n",
       " 'logs/2024-04-27T19-42-30_afhq-ldm-kl-16-mae-vae/samples_2024-04-28-22-53-07/img/epoch=000009',\n",
       " 'logs/2024-04-27T19-42-30_afhq-ldm-kl-16-mae-vae/samples_2024-04-28-22-53-07/img/epoch=000109',\n",
       " 'logs/2024-04-27T19-42-30_afhq-ldm-kl-16-mae-vae/samples_2024-04-28-22-53-07/img/epoch=000139',\n",
       " 'logs/2024-04-27T19-42-30_afhq-ldm-kl-16-mae-vae/samples_2024-04-28-22-53-07/img/epoch=000029',\n",
       " 'logs/2024-04-27T19-42-30_afhq-ldm-kl-16-mae-vae/samples_2024-04-28-22-53-07/img/epoch=000039',\n",
       " 'logs/2024-04-27T19-42-30_afhq-ldm-kl-16-mae-vae/samples_2024-04-28-22-53-07/img/epoch=000119',\n",
       " 'logs/2024-04-27T19-42-30_afhq-ldm-kl-16-mae-vae/samples_2024-04-28-22-53-07/img/epoch=000059',\n",
       " 'logs/2024-04-27T19-42-30_afhq-ldm-kl-16-mae-vae/samples_2024-04-28-22-53-07/img/epoch=000089',\n",
       " 'logs/2024-04-27T19-42-30_afhq-ldm-kl-16-mae-vae/samples_2024-04-28-22-53-07/img/epoch=000149',\n",
       " 'logs/2024-04-27T19-42-30_afhq-ldm-kl-16-mae-vae/samples_2024-04-28-22-53-07/img/epoch=000069']"
      ]
     },
     "execution_count": 12,
     "metadata": {},
     "output_type": "execute_result"
    }
   ],
   "source": [
    "mae_epoch_dirs = os.listdir(\"logs/2024-04-27T19-42-30_afhq-ldm-kl-16-mae-vae/samples_2024-04-28-22-53-07/img\")\n",
    "mae_epoch_dirs = [os.path.join(\"logs/2024-04-27T19-42-30_afhq-ldm-kl-16-mae-vae/samples_2024-04-28-22-53-07/img\", epoch) for epoch in mae_epoch_dirs]\n",
    "mae_epoch_dirs"
   ]
  },
  {
   "cell_type": "code",
   "execution_count": null,
   "metadata": {},
   "outputs": [],
   "source": []
  },
  {
   "cell_type": "code",
   "execution_count": 13,
   "metadata": {},
   "outputs": [
    {
     "name": "stderr",
     "output_type": "stream",
     "text": [
      "100%|██████████| 5000/5000 [00:03<00:00, 1276.62it/s]\n",
      "100%|██████████| 5000/5000 [00:04<00:00, 1221.51it/s]\n",
      "100%|██████████| 5000/5000 [00:03<00:00, 1308.32it/s]\n",
      "100%|██████████| 5000/5000 [00:03<00:00, 1277.58it/s]\n",
      "100%|██████████| 5000/5000 [00:03<00:00, 1282.26it/s]\n",
      "100%|██████████| 5000/5000 [00:05<00:00, 951.65it/s] \n",
      "100%|██████████| 5000/5000 [00:04<00:00, 1231.11it/s]\n",
      "100%|██████████| 5000/5000 [00:03<00:00, 1267.50it/s]\n",
      "100%|██████████| 5000/5000 [00:03<00:00, 1274.39it/s]\n",
      "100%|██████████| 5000/5000 [00:05<00:00, 910.15it/s] \n",
      "100%|██████████| 5000/5000 [00:03<00:00, 1388.95it/s]\n",
      "100%|██████████| 5000/5000 [00:03<00:00, 1371.47it/s]\n",
      "100%|██████████| 5000/5000 [00:03<00:00, 1397.96it/s]\n",
      "100%|██████████| 5000/5000 [00:03<00:00, 1382.96it/s]\n"
     ]
    }
   ],
   "source": [
    "for img_dir in mae_epoch_dirs:\n",
    "    epoch = os.path.basename(img_dir).split('=')[-1]\n",
    "    images_array = load_images_to_array(img_dir)\n",
    "    save_images_as_npz(images_array, f\"images_npy/images_afhq_mae_{epoch}.npz\")"
   ]
  },
  {
   "cell_type": "code",
   "execution_count": 15,
   "metadata": {},
   "outputs": [
    {
     "name": "stderr",
     "output_type": "stream",
     "text": [
      "100%|██████████| 5000/5000 [00:05<00:00, 972.18it/s] \n"
     ]
    }
   ],
   "source": [
    "img_dir = \"logs/2024-04-24T18-31-43_afhq-ldm-kl-16-jepa-vae/samples_2024-04-28-20-55-29/img/epoch=000079\"\n",
    "epoch = os.path.basename(img_dir).split('=')[-1]\n",
    "images_array = load_images_to_array(img_dir)\n",
    "save_images_as_npz(images_array, f\"images_npy/images_afhq_mae_{epoch}.npz\")"
   ]
  },
  {
   "cell_type": "code",
   "execution_count": null,
   "metadata": {},
   "outputs": [],
   "source": []
  },
  {
   "cell_type": "code",
   "execution_count": 5,
   "metadata": {},
   "outputs": [
    {
     "name": "stderr",
     "output_type": "stream",
     "text": [
      "100%|██████████| 300/300 [00:00<00:00, 1457.56it/s]\n"
     ]
    }
   ],
   "source": [
    "img_dir = \"conditional_images_mae/99/0\"\n",
    "epoch = 99\n",
    "images_array = load_images_to_array(img_dir)\n",
    "save_images_as_npz(images_array, f\"images_npy/images_afhq_mae_cond_{epoch}_cats.npz\")"
   ]
  },
  {
   "cell_type": "code",
   "execution_count": 6,
   "metadata": {},
   "outputs": [
    {
     "name": "stderr",
     "output_type": "stream",
     "text": [
      "100%|██████████| 300/300 [00:00<00:00, 1485.12it/s]\n"
     ]
    }
   ],
   "source": [
    "img_dir = \"conditional_images_mae/99/1\"\n",
    "epoch = 99\n",
    "images_array = load_images_to_array(img_dir)\n",
    "save_images_as_npz(images_array, f\"images_npy/images_afhq_mae_cond_{epoch}_wild.npz\")"
   ]
  },
  {
   "cell_type": "code",
   "execution_count": 7,
   "metadata": {},
   "outputs": [
    {
     "name": "stderr",
     "output_type": "stream",
     "text": [
      "100%|██████████| 300/300 [00:00<00:00, 1527.66it/s]\n"
     ]
    }
   ],
   "source": [
    "img_dir = \"conditional_images_mae/99/2\"\n",
    "epoch = 99\n",
    "images_array = load_images_to_array(img_dir)\n",
    "save_images_as_npz(images_array, f\"images_npy/images_afhq_mae_cond_{epoch}_dogs.npz\")"
   ]
  },
  {
   "cell_type": "code",
   "execution_count": 8,
   "metadata": {},
   "outputs": [
    {
     "name": "stderr",
     "output_type": "stream",
     "text": [
      "100%|██████████| 300/300 [00:00<00:00, 1532.60it/s]\n",
      "100%|██████████| 300/300 [00:00<00:00, 1653.76it/s]\n",
      "100%|██████████| 300/300 [00:00<00:00, 1630.64it/s]\n"
     ]
    }
   ],
   "source": [
    "for i, cl in zip([0,1,2], ['cats', 'wild', 'dogs']):\n",
    "    epoch = 49\n",
    "    img_dir = f\"conditional_images_mae/{epoch}/{i}\"\n",
    "    images_array = load_images_to_array(img_dir)\n",
    "    save_images_as_npz(images_array, f\"images_npy/images_afhq_mae_cond_{epoch}_{cl}.npz\")"
   ]
  },
  {
   "cell_type": "code",
   "execution_count": 9,
   "metadata": {},
   "outputs": [
    {
     "name": "stderr",
     "output_type": "stream",
     "text": [
      "100%|██████████| 300/300 [00:00<00:00, 1456.61it/s]\n",
      "100%|██████████| 300/300 [00:00<00:00, 1686.99it/s]\n",
      "100%|██████████| 300/300 [00:00<00:00, 1564.37it/s]\n"
     ]
    }
   ],
   "source": [
    "for i, cl in zip([0,1,2], ['cats', 'wild', 'dogs']):\n",
    "    epoch = 49\n",
    "    img_dir = f\"conditional_images/{epoch}/{i}\"\n",
    "    images_array = load_images_to_array(img_dir)\n",
    "    save_images_as_npz(images_array, f\"images_npy/images_afhq_jepa_cond_{epoch}_{cl}.npz\")"
   ]
  },
  {
   "cell_type": "code",
   "execution_count": 10,
   "metadata": {},
   "outputs": [
    {
     "name": "stderr",
     "output_type": "stream",
     "text": [
      "100%|██████████| 300/300 [00:00<00:00, 1565.91it/s]\n",
      "100%|██████████| 300/300 [00:00<00:00, 1625.52it/s]\n",
      "100%|██████████| 300/300 [00:00<00:00, 1443.12it/s]\n"
     ]
    }
   ],
   "source": [
    "for i, cl in zip([0,1,2], ['cats', 'wild', 'dogs']):\n",
    "    epoch = 99\n",
    "    img_dir = f\"conditional_images/{epoch}/{i}\"\n",
    "    images_array = load_images_to_array(img_dir)\n",
    "    save_images_as_npz(images_array, f\"images_npy/images_afhq_jepa_cond_{epoch}_{cl}.npz\")"
   ]
  },
  {
   "cell_type": "code",
   "execution_count": null,
   "metadata": {},
   "outputs": [],
   "source": []
  }
 ],
 "metadata": {
  "kernelspec": {
   "display_name": "ldm",
   "language": "python",
   "name": "python3"
  },
  "language_info": {
   "codemirror_mode": {
    "name": "ipython",
    "version": 3
   },
   "file_extension": ".py",
   "mimetype": "text/x-python",
   "name": "python",
   "nbconvert_exporter": "python",
   "pygments_lexer": "ipython3",
   "version": "3.8.5"
  }
 },
 "nbformat": 4,
 "nbformat_minor": 2
}
